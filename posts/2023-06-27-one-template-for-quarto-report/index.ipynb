{
  "cells": [
    {
      "cell_type": "raw",
      "metadata": {},
      "source": [
        "---\n",
        "title: \"One Template for Quarto Report\"\n",
        "author: \"Jihong Zhang\"\n",
        "description: \"\"\n",
        "date: \"2023-06-27\"\n",
        "categories: []\n",
        "---"
      ],
      "id": "67ca9e17"
    },
    {
      "cell_type": "markdown",
      "metadata": {},
      "source": [
        "```{yaml}\n",
        "#| eval: false\n",
        "title: \"NEET Analysis\"\n",
        "author: \"Jihong Zhang\"\n",
        "format: \n",
        "  html:\n",
        "    header-includes: |\n",
        "      <link href=\"https://fonts.googleapis.com/css2?family=Ysabeau+Infant&display=swap\" rel=\"stylesheet\">\n",
        "    mainfont: 'Ysabeau Infant'\n",
        "    self-contained: true\n",
        "    toc: true\n",
        "    code-fold: true\n",
        "    code-summary: ' R Code'\n",
        "    code-line-numbers: true\n",
        "    number-sections: true\n",
        "    number-offset: 1\n",
        "```"
      ],
      "id": "8913c8fe"
    }
  ],
  "metadata": {
    "kernelspec": {
      "name": "python396jvsc74a57bd0ac556b740785a89e55f7782ac2abf51e1e34cf8853641f5a022abd0d7a237638",
      "language": "python",
      "display_name": "Python 3.9.6 64-bit ('base': conda)"
    }
  },
  "nbformat": 4,
  "nbformat_minor": 5
}